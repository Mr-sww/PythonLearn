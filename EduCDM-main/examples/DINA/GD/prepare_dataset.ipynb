{
 "cells": [
  {
   "cell_type": "code",
   "execution_count": 2,
   "outputs": [
    {
     "name": "stderr",
     "output_type": "stream",
     "text": [
      "downloader, INFO http://base.ustc.edu.cn/data/cdbd/a0910/item.csv is saved as ..\\..\\..\\data\\a0910\\item.csv\n",
      "downloader, INFO http://base.ustc.edu.cn/data/cdbd/a0910/readme.txt is saved as ..\\..\\..\\data\\a0910\\readme.txt\n",
      "downloader, INFO http://base.ustc.edu.cn/data/cdbd/a0910/test.csv is saved as ..\\..\\..\\data\\a0910\\test.csv\n",
      "downloader, INFO http://base.ustc.edu.cn/data/cdbd/a0910/train.csv is saved as ..\\..\\..\\data\\a0910\\train.csv\n",
      "downloader, INFO http://base.ustc.edu.cn/data/cdbd/a0910/valid.csv is saved as ..\\..\\..\\data\\a0910\\valid.csv\n"
     ]
    },
    {
     "name": "stdout",
     "output_type": "stream",
     "text": [
      "Downloading ..\\..\\..\\data\\a0910\\item.csv 100.00%: 258118 | 258118\n",
      "Downloading ..\\..\\..\\data\\a0910\\readme.txt 100.00%: 86 | 86\n",
      "Downloading ..\\..\\..\\data\\a0910\\test.csv 100.00%: 810767 | 810767\n",
      "Downloading ..\\..\\..\\data\\a0910\\train.csv 100.00%: 2329161 | 2329161\n",
      "Downloading ..\\..\\..\\data\\a0910\\valid.csv 100.00%: 371493 | 371493\n"
     ]
    },
    {
     "data": {
      "text/plain": "'../../../data'"
     },
     "execution_count": 2,
     "metadata": {},
     "output_type": "execute_result"
    }
   ],
   "source": [
    "# Download the Cognitive Diagnosis Benchmark Datasets (CDBD)\n",
    "from EduData import get_data\n",
    "\n",
    "get_data(\"cdbd-a0910\", \"../../../data\")\n"
   ],
   "metadata": {
    "collapsed": false,
    "pycharm": {
     "name": "#%%\n"
    }
   }
  }
 ],
 "metadata": {
  "kernelspec": {
   "display_name": "Python 3",
   "language": "python",
   "name": "python3"
  },
  "language_info": {
   "codemirror_mode": {
    "name": "ipython",
    "version": 2
   },
   "file_extension": ".py",
   "mimetype": "text/x-python",
   "name": "python",
   "nbconvert_exporter": "python",
   "pygments_lexer": "ipython2",
   "version": "2.7.6"
  }
 },
 "nbformat": 4,
 "nbformat_minor": 0
}